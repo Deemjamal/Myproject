{
 "cells": [
  {
   "cell_type": "markdown",
   "metadata": {
    "id": "wjW6zYjkuGvx"
   },
   "source": [
    "EX 1"
   ]
  },
  {
   "cell_type": "code",
   "execution_count": 1,
   "metadata": {
    "id": "7yJRP-06rD_h"
   },
   "outputs": [
    {
     "name": "stdout",
     "output_type": "stream",
     "text": [
      "enter Vi22.4\n",
      "enter Vf0\n",
      "enter the time 2.55\n",
      "the acceleration is =  -8.78 m/s^2\n"
     ]
    }
   ],
   "source": [
    "# A car traveling at 22.4m/s skids to a stop in 2.55s. Determine the skidding distance of the car (assume uniform acceleration) \n",
    "vi=float(input(\"enter Vi\"))\n",
    "vf=float(input(\"enter Vf\"))\n",
    "t=float(input(\"enter the time \"))\n",
    "a=(vf-vi)/t\n",
    "print('the acceleration is = ',round(a,2),'m/s^2')"
   ]
  },
  {
   "cell_type": "code",
   "execution_count": 2,
   "metadata": {
    "colab": {
     "base_uri": "https://localhost:8080/"
    },
    "id": "CXJxoRJBsR5a",
    "outputId": "b28b81be-fce8-4d27-9f65-752544ff6160"
   },
   "outputs": [
    {
     "name": "stdout",
     "output_type": "stream",
     "text": [
      "enter Vi22.4\n",
      "enter Vf0\n",
      "enter the time 2.55\n",
      "the displacment is =  28.56 m\n"
     ]
    }
   ],
   "source": [
    "# A car traveling at 22.4m/s skids to a stop in 2.55s. Determine the skidding distance of the car (assume uniform acceleration) \n",
    "vi=float(input(\"enter Vi\"))\n",
    "vf=float(input(\"enter Vf\"))\n",
    "t=float(input(\"enter the time \"))\n",
    "a=(vf-vi)/t\n",
    "d=(vf**2-vi**2)/(2*a)\n",
    "print('the displacment is = ' ,round(d,2),'m')"
   ]
  },
  {
   "cell_type": "markdown",
   "metadata": {
    "id": "ki1hBEyduLgu"
   },
   "source": [
    "EX 2"
   ]
  },
  {
   "cell_type": "code",
   "execution_count": 5,
   "metadata": {
    "colab": {
     "base_uri": "https://localhost:8080/"
    },
    "id": "RKpira7yuO9K",
    "outputId": "f030b78c-08fb-4818-efa7-27acb5a3944e"
   },
   "outputs": [
    {
     "name": "stdout",
     "output_type": "stream",
     "text": [
      "The velocity =  13.41 m/s\n",
      "The kinetic energy is =  80936.73 J\n"
     ]
    }
   ],
   "source": [
    "# A 900-kg compact car moving at 60 miles/hr has approximately 320,000 Joules of kinetic energy. \n",
    "# Estimate its new kinetic energy if it is moving at 30 miles/hr.\n",
    "v=30\n",
    "m=900\n",
    "v_in_m_per_s=v*(1/3600)*(1609.34)\n",
    "print('The velocity = ',\n",
    "      round(v_in_m_per_s,2),\"m/s\")\n",
    "KE=lambda m,v_in_m_per_s:0.5*m*(v_in_m_per_s)**2\n",
    "kinetic=(KE(m,v_in_m_per_s))\n",
    "print(\"The kinetic energy is = \",\n",
    "      round(kinetic,2),'J')\n"
   ]
  },
  {
   "cell_type": "code",
   "execution_count": null,
   "metadata": {
    "id": "VQeWPXy9vFIb"
   },
   "outputs": [],
   "source": []
  }
 ],
 "metadata": {
  "colab": {
   "name": "Ex.ipynb",
   "provenance": []
  },
  "kernelspec": {
   "display_name": "Python 3",
   "language": "python",
   "name": "python3"
  },
  "language_info": {
   "codemirror_mode": {
    "name": "ipython",
    "version": 3
   },
   "file_extension": ".py",
   "mimetype": "text/x-python",
   "name": "python",
   "nbconvert_exporter": "python",
   "pygments_lexer": "ipython3",
   "version": "3.8.8"
  }
 },
 "nbformat": 4,
 "nbformat_minor": 1
}
